{
 "cells": [
  {
   "cell_type": "markdown",
   "metadata": {},
   "source": [
    "# Introdução"
   ]
  },
  {
   "cell_type": "markdown",
   "metadata": {},
   "source": [
    "## O que é NLP? \n",
    "\n",
    "Processamento de Linguagem Natural, em inglês NLP, é um área de interseção com a linguística, ciência da computação, inteligência artificial voltada para interações entre computadores e a linguagem humana. Com foco em como programas de computador processam e analisam um grande volume de dados da linguagem natural. Fonte: https://en.wikipedia.org/wiki/Natural_language_processing \n",
    "\n",
    "* Grande parte da informação digital está em formato não estruturado e textual  \n",
    "* Como tornar o computador capaz de compreender texto ou voz ? "
   ]
  },
  {
   "cell_type": "markdown",
   "metadata": {},
   "source": [
    "## Bibliotecas\n",
    "* NLTK\n",
    "* Spacy\n",
    "\n",
    "## Referências\n",
    "* NLP - Natural Language Processing with Python, https://www.udemy.com/course/nlp-natural-language-processing-with-python\n",
    "* Spacy, https://spacy.io/usage/linguistic-features#tokenization"
   ]
  },
  {
   "cell_type": "markdown",
   "metadata": {},
   "source": [
    "## Tokenização"
   ]
  },
  {
   "cell_type": "markdown",
   "metadata": {},
   "source": [
    "![\"  \"](https://spacy.io/tokenization-57e618bd79d933c4ccd308b5739062d6.svg)\n",
    "\n",
    "Fonte: https://spacy.io/"
   ]
  },
  {
   "cell_type": "code",
   "execution_count": 5,
   "metadata": {},
   "outputs": [],
   "source": [
    "import spacy"
   ]
  },
  {
   "cell_type": "code",
   "execution_count": 6,
   "metadata": {},
   "outputs": [],
   "source": [
    "# Fonte: https://spacy.io/models/pt#pt_core_news_sm \n",
    "nlp = spacy.load('pt_core_news_sm')"
   ]
  },
  {
   "cell_type": "code",
   "execution_count": 7,
   "metadata": {},
   "outputs": [],
   "source": [
    "doc = nlp(u'Este componente curricular é voltado para os estudantes que desejam começar seus estudos sobre Processamento de Linguagem Natural (NLP) com foco na resolução de Problemas.')"
   ]
  },
  {
   "cell_type": "code",
   "execution_count": 8,
   "metadata": {},
   "outputs": [
    {
     "name": "stdout",
     "output_type": "stream",
     "text": [
      "Este\n",
      "componente\n",
      "curricular\n",
      "é\n",
      "voltado\n",
      "para\n",
      "os\n",
      "estudantes\n",
      "que\n",
      "desejam\n",
      "começar\n",
      "seus\n",
      "estudos\n",
      "sobre\n",
      "Processamento\n",
      "de\n",
      "Linguagem\n",
      "Natural\n",
      "(\n",
      "NLP\n",
      ")\n",
      "com\n",
      "foco\n",
      "na\n",
      "resolução\n",
      "de\n",
      "Problemas\n",
      ".\n"
     ]
    }
   ],
   "source": [
    "for token in doc:\n",
    "   print(token.text)  "
   ]
  },
  {
   "cell_type": "code",
   "execution_count": 29,
   "metadata": {},
   "outputs": [
    {
     "name": "stdout",
     "output_type": "stream",
     "text": [
      "Este DET\n",
      "determiner\n",
      "componente NOUN\n",
      "noun\n",
      "curricular ADJ\n",
      "adjective\n",
      "é AUX\n",
      "auxiliary\n",
      "voltado VERB\n",
      "verb\n",
      "para ADP\n",
      "adposition\n",
      "os DET\n",
      "determiner\n",
      "estudantes NOUN\n",
      "noun\n",
      "que PRON\n",
      "pronoun\n",
      "desejam VERB\n",
      "verb\n",
      "começar VERB\n",
      "verb\n",
      "seus DET\n",
      "determiner\n",
      "estudos NOUN\n",
      "noun\n",
      "sobre ADP\n",
      "adposition\n",
      "Processamento PROPN\n",
      "proper noun\n",
      "de ADP\n",
      "adposition\n",
      "Linguagem PROPN\n",
      "proper noun\n",
      "Natural PROPN\n",
      "proper noun\n",
      "( PUNCT\n",
      "punctuation\n",
      "NLP PROPN\n",
      "proper noun\n",
      ") PUNCT\n",
      "punctuation\n",
      "com ADP\n",
      "adposition\n",
      "foco NOUN\n",
      "noun\n",
      "na ADP\n",
      "adposition\n",
      "resolução NOUN\n",
      "noun\n",
      "de ADP\n",
      "adposition\n",
      "Problemas NOUN\n",
      "noun\n",
      ". PUNCT\n",
      "punctuation\n"
     ]
    }
   ],
   "source": [
    "for token in doc:\n",
    "   print(token.text, token.pos_ ) \n",
    "   print(str(spacy.explain(  token.pos_  )))"
   ]
  },
  {
   "cell_type": "code",
   "execution_count": 30,
   "metadata": {},
   "outputs": [],
   "source": [
    "doc2 = nlp('O Google tem sua sede em Moutain View, Califórnia, com receita de 109,65 bilhões de dólares americanos.') "
   ]
  },
  {
   "cell_type": "code",
   "execution_count": 35,
   "metadata": {},
   "outputs": [
    {
     "name": "stdout",
     "output_type": "stream",
     "text": [
      "Google\n",
      "ORG\n",
      "Companies, agencies, institutions, etc.\n",
      "\n",
      "\n",
      "Moutain View\n",
      "MISC\n",
      "Miscellaneous entities, e.g. events, nationalities, products or works of art\n",
      "\n",
      "\n",
      "Califórnia\n",
      "LOC\n",
      "Non-GPE locations, mountain ranges, bodies of water\n",
      "\n",
      "\n"
     ]
    }
   ],
   "source": [
    "for entity in doc2.ents:\n",
    "    print(entity)\n",
    "    print(entity.label_)\n",
    "    print(str(spacy.explain(entity.label_ ) ))\n",
    "    print('\\n')"
   ]
  }
 ],
 "metadata": {
  "interpreter": {
   "hash": "31f2aee4e71d21fbe5cf8b01ff0e069b9275f58929596ceb00d14d90e3e16cd6"
  },
  "kernelspec": {
   "display_name": "Python 3 (ipykernel)",
   "language": "python",
   "name": "python3"
  },
  "language_info": {
   "codemirror_mode": {
    "name": "ipython",
    "version": 3
   },
   "file_extension": ".py",
   "mimetype": "text/x-python",
   "name": "python",
   "nbconvert_exporter": "python",
   "pygments_lexer": "ipython3",
   "version": "3.8.10"
  },
  "orig_nbformat": 4
 },
 "nbformat": 4,
 "nbformat_minor": 2
}
